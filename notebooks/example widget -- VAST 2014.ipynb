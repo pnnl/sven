{
 "cells": [
  {
   "cell_type": "code",
   "execution_count": 1,
   "metadata": {},
   "outputs": [],
   "source": [
    "import numpy as np\n",
    "import pandas as pd"
   ]
  },
  {
   "cell_type": "markdown",
   "metadata": {},
   "source": [
    "# Load some data\n",
    "This data is derived from the VAST Challenge 2014 dataset. It contains some simulated patterns of life. From this data we know what activity each agent at each hour is doing."
   ]
  },
  {
   "cell_type": "code",
   "execution_count": 2,
   "metadata": {},
   "outputs": [
    {
     "data": {
      "text/html": [
       "<div>\n",
       "<style scoped>\n",
       "    .dataframe tbody tr th:only-of-type {\n",
       "        vertical-align: middle;\n",
       "    }\n",
       "\n",
       "    .dataframe tbody tr th {\n",
       "        vertical-align: top;\n",
       "    }\n",
       "\n",
       "    .dataframe thead th {\n",
       "        text-align: right;\n",
       "    }\n",
       "</style>\n",
       "<table border=\"1\" class=\"dataframe\">\n",
       "  <thead>\n",
       "    <tr style=\"text-align: right;\">\n",
       "      <th></th>\n",
       "      <th>FullName</th>\n",
       "      <th>Timestamp</th>\n",
       "      <th>name</th>\n",
       "      <th>id</th>\n",
       "      <th>time</th>\n",
       "    </tr>\n",
       "  </thead>\n",
       "  <tbody>\n",
       "    <tr>\n",
       "      <th>0</th>\n",
       "      <td>Alcazar, Lucas</td>\n",
       "      <td>2014-01-06 07:00:00</td>\n",
       "      <td>Hallowed Grounds</td>\n",
       "      <td>Alcazar, Lucas@2014-01-06</td>\n",
       "      <td>7</td>\n",
       "    </tr>\n",
       "    <tr>\n",
       "      <th>1</th>\n",
       "      <td>Alcazar, Lucas</td>\n",
       "      <td>2014-01-06 08:00:00</td>\n",
       "      <td>GAStech-Kronos</td>\n",
       "      <td>Alcazar, Lucas@2014-01-06</td>\n",
       "      <td>8</td>\n",
       "    </tr>\n",
       "    <tr>\n",
       "      <th>2</th>\n",
       "      <td>Alcazar, Lucas</td>\n",
       "      <td>2014-01-06 09:00:00</td>\n",
       "      <td>GAStech-Kronos</td>\n",
       "      <td>Alcazar, Lucas@2014-01-06</td>\n",
       "      <td>9</td>\n",
       "    </tr>\n",
       "    <tr>\n",
       "      <th>3</th>\n",
       "      <td>Alcazar, Lucas</td>\n",
       "      <td>2014-01-06 10:00:00</td>\n",
       "      <td>GAStech-Kronos</td>\n",
       "      <td>Alcazar, Lucas@2014-01-06</td>\n",
       "      <td>10</td>\n",
       "    </tr>\n",
       "    <tr>\n",
       "      <th>4</th>\n",
       "      <td>Alcazar, Lucas</td>\n",
       "      <td>2014-01-06 11:00:00</td>\n",
       "      <td>GAStech-Kronos</td>\n",
       "      <td>Alcazar, Lucas@2014-01-06</td>\n",
       "      <td>11</td>\n",
       "    </tr>\n",
       "  </tbody>\n",
       "</table>\n",
       "</div>"
      ],
      "text/plain": [
       "         FullName           Timestamp              name  \\\n",
       "0  Alcazar, Lucas 2014-01-06 07:00:00  Hallowed Grounds   \n",
       "1  Alcazar, Lucas 2014-01-06 08:00:00    GAStech-Kronos   \n",
       "2  Alcazar, Lucas 2014-01-06 09:00:00    GAStech-Kronos   \n",
       "3  Alcazar, Lucas 2014-01-06 10:00:00    GAStech-Kronos   \n",
       "4  Alcazar, Lucas 2014-01-06 11:00:00    GAStech-Kronos   \n",
       "\n",
       "                          id  time  \n",
       "0  Alcazar, Lucas@2014-01-06     7  \n",
       "1  Alcazar, Lucas@2014-01-06     8  \n",
       "2  Alcazar, Lucas@2014-01-06     9  \n",
       "3  Alcazar, Lucas@2014-01-06    10  \n",
       "4  Alcazar, Lucas@2014-01-06    11  "
      ]
     },
     "execution_count": 2,
     "metadata": {},
     "output_type": "execute_result"
    }
   ],
   "source": [
    "data = pd.read_csv('./vast2014geo.csv', index_col=0, parse_dates=['Timestamp'])\n",
    "data.head()"
   ]
  },
  {
   "cell_type": "markdown",
   "metadata": {},
   "source": [
    "# Filter down\n",
    "Visualizing all this data at once with storylines wouldn't make sense, so we need to pick a subset. We can do this by picking an arbitrary person and a few dates. The code written below is flexible enough to handle multiple people too."
   ]
  },
  {
   "cell_type": "code",
   "execution_count": 3,
   "metadata": {},
   "outputs": [
    {
     "data": {
      "text/html": [
       "<div>\n",
       "<style scoped>\n",
       "    .dataframe tbody tr th:only-of-type {\n",
       "        vertical-align: middle;\n",
       "    }\n",
       "\n",
       "    .dataframe tbody tr th {\n",
       "        vertical-align: top;\n",
       "    }\n",
       "\n",
       "    .dataframe thead th {\n",
       "        text-align: right;\n",
       "    }\n",
       "</style>\n",
       "<table border=\"1\" class=\"dataframe\">\n",
       "  <thead>\n",
       "    <tr style=\"text-align: right;\">\n",
       "      <th></th>\n",
       "      <th>FullName</th>\n",
       "      <th>Timestamp</th>\n",
       "      <th>name</th>\n",
       "      <th>id</th>\n",
       "      <th>time</th>\n",
       "    </tr>\n",
       "  </thead>\n",
       "  <tbody>\n",
       "    <tr>\n",
       "      <th>65</th>\n",
       "      <td>Alcazar, Lucas</td>\n",
       "      <td>2014-01-09 00:00:00</td>\n",
       "      <td>Lucas Alcazar home</td>\n",
       "      <td>Alcazar, Lucas@2014-01-09</td>\n",
       "      <td>0</td>\n",
       "    </tr>\n",
       "    <tr>\n",
       "      <th>66</th>\n",
       "      <td>Alcazar, Lucas</td>\n",
       "      <td>2014-01-09 01:00:00</td>\n",
       "      <td>Lucas Alcazar home</td>\n",
       "      <td>Alcazar, Lucas@2014-01-09</td>\n",
       "      <td>1</td>\n",
       "    </tr>\n",
       "    <tr>\n",
       "      <th>67</th>\n",
       "      <td>Alcazar, Lucas</td>\n",
       "      <td>2014-01-09 02:00:00</td>\n",
       "      <td>Lucas Alcazar home</td>\n",
       "      <td>Alcazar, Lucas@2014-01-09</td>\n",
       "      <td>2</td>\n",
       "    </tr>\n",
       "    <tr>\n",
       "      <th>68</th>\n",
       "      <td>Alcazar, Lucas</td>\n",
       "      <td>2014-01-09 03:00:00</td>\n",
       "      <td>Lucas Alcazar home</td>\n",
       "      <td>Alcazar, Lucas@2014-01-09</td>\n",
       "      <td>3</td>\n",
       "    </tr>\n",
       "    <tr>\n",
       "      <th>69</th>\n",
       "      <td>Alcazar, Lucas</td>\n",
       "      <td>2014-01-09 04:00:00</td>\n",
       "      <td>Lucas Alcazar home</td>\n",
       "      <td>Alcazar, Lucas@2014-01-09</td>\n",
       "      <td>4</td>\n",
       "    </tr>\n",
       "  </tbody>\n",
       "</table>\n",
       "</div>"
      ],
      "text/plain": [
       "          FullName           Timestamp                name  \\\n",
       "65  Alcazar, Lucas 2014-01-09 00:00:00  Lucas Alcazar home   \n",
       "66  Alcazar, Lucas 2014-01-09 01:00:00  Lucas Alcazar home   \n",
       "67  Alcazar, Lucas 2014-01-09 02:00:00  Lucas Alcazar home   \n",
       "68  Alcazar, Lucas 2014-01-09 03:00:00  Lucas Alcazar home   \n",
       "69  Alcazar, Lucas 2014-01-09 04:00:00  Lucas Alcazar home   \n",
       "\n",
       "                           id  time  \n",
       "65  Alcazar, Lucas@2014-01-09     0  \n",
       "66  Alcazar, Lucas@2014-01-09     1  \n",
       "67  Alcazar, Lucas@2014-01-09     2  \n",
       "68  Alcazar, Lucas@2014-01-09     3  \n",
       "69  Alcazar, Lucas@2014-01-09     4  "
      ]
     },
     "execution_count": 3,
     "metadata": {},
     "output_type": "execute_result"
    }
   ],
   "source": [
    "people = ['Alcazar, Lucas']\n",
    "dates=['2014-01-9', '2014-01-10', '2014-01-11']\n",
    "\n",
    "people_mask = data.FullName.apply(set(people).__contains__)\n",
    "date_mask = np.any([data.Timestamp.dt.date == d for d in map(pd.Timestamp, dates)], axis=0)\n",
    "\n",
    "data_subset = data[people_mask & date_mask]\n",
    "\n",
    "data_subset.head()"
   ]
  },
  {
   "cell_type": "markdown",
   "metadata": {},
   "source": [
    "# A Basic Storyline\n",
    "The storyline visualization requires 1 parameter, **data** which must be a pandas DataFrame with the following 3 columns:\n",
    "* id -- a variable uniquely identifying each storyline\n",
    "* group -- the 'state' of each storyline over time (the y-axis)\n",
    "* time -- the timestep of each storyline (the x-axis)\n",
    "\n",
    "The interface doesn't require that these column names exist. If you have different column names, you can use the pamameters, id, group, and name, to specify the column names for these without renaming your DataFrame."
   ]
  },
  {
   "cell_type": "code",
   "execution_count": 4,
   "metadata": {},
   "outputs": [
    {
     "data": {
      "application/vnd.jupyter.widget-view+json": {
       "model_id": "b3c20a87cfc84aee8cb17c29dcf5bf1f",
       "version_major": 2,
       "version_minor": 0
      },
      "text/plain": [
       "StorylineChart(component='StorylineChart', props={'data': [{'FullName': 'Alcazar, Lucas', 'Timestamp': Timesta…"
      ]
     },
     "metadata": {},
     "output_type": "display_data"
    }
   ],
   "source": [
    "from sven import StorylineChart\n",
    "\n",
    "StorylineChart(\n",
    "    data=data_subset,\n",
    "    group='name', # here we tell the widget to use the 'name' column to identify groups\n",
    ")"
   ]
  },
  {
   "cell_type": "markdown",
   "metadata": {},
   "source": [
    "# Addidtional Customization\n",
    "The widget allows for aditional customization of storyline labels and colors. We'll use a more complex example to motivate this. Suppose we want to focus on one person and compare actual behavior to their typical behavior. We'd want to change the line colors to accentuate the typical behavior, and we don't need all the repeated names in the labels."
   ]
  },
  {
   "cell_type": "code",
   "execution_count": 5,
   "metadata": {},
   "outputs": [
    {
     "data": {
      "text/html": [
       "<div>\n",
       "<style scoped>\n",
       "    .dataframe tbody tr th:only-of-type {\n",
       "        vertical-align: middle;\n",
       "    }\n",
       "\n",
       "    .dataframe tbody tr th {\n",
       "        vertical-align: top;\n",
       "    }\n",
       "\n",
       "    .dataframe thead th {\n",
       "        text-align: right;\n",
       "    }\n",
       "</style>\n",
       "<table border=\"1\" class=\"dataframe\">\n",
       "  <thead>\n",
       "    <tr style=\"text-align: right;\">\n",
       "      <th></th>\n",
       "      <th>name</th>\n",
       "      <th>id</th>\n",
       "      <th>time</th>\n",
       "    </tr>\n",
       "  </thead>\n",
       "  <tbody>\n",
       "    <tr>\n",
       "      <th>65</th>\n",
       "      <td>Lucas Alcazar home</td>\n",
       "      <td>Alcazar, Lucas@2014-01-09</td>\n",
       "      <td>0</td>\n",
       "    </tr>\n",
       "    <tr>\n",
       "      <th>66</th>\n",
       "      <td>Lucas Alcazar home</td>\n",
       "      <td>Alcazar, Lucas@2014-01-09</td>\n",
       "      <td>1</td>\n",
       "    </tr>\n",
       "    <tr>\n",
       "      <th>67</th>\n",
       "      <td>Lucas Alcazar home</td>\n",
       "      <td>Alcazar, Lucas@2014-01-09</td>\n",
       "      <td>2</td>\n",
       "    </tr>\n",
       "    <tr>\n",
       "      <th>68</th>\n",
       "      <td>Lucas Alcazar home</td>\n",
       "      <td>Alcazar, Lucas@2014-01-09</td>\n",
       "      <td>3</td>\n",
       "    </tr>\n",
       "    <tr>\n",
       "      <th>69</th>\n",
       "      <td>Lucas Alcazar home</td>\n",
       "      <td>Alcazar, Lucas@2014-01-09</td>\n",
       "      <td>4</td>\n",
       "    </tr>\n",
       "    <tr>\n",
       "      <th>...</th>\n",
       "      <td>...</td>\n",
       "      <td>...</td>\n",
       "      <td>...</td>\n",
       "    </tr>\n",
       "    <tr>\n",
       "      <th>19</th>\n",
       "      <td>Ouzeri Elian</td>\n",
       "      <td>Alcazar, Lucas@Typical</td>\n",
       "      <td>19</td>\n",
       "    </tr>\n",
       "    <tr>\n",
       "      <th>20</th>\n",
       "      <td>Ouzeri Elian</td>\n",
       "      <td>Alcazar, Lucas@Typical</td>\n",
       "      <td>20</td>\n",
       "    </tr>\n",
       "    <tr>\n",
       "      <th>21</th>\n",
       "      <td>Lucas Alcazar home</td>\n",
       "      <td>Alcazar, Lucas@Typical</td>\n",
       "      <td>21</td>\n",
       "    </tr>\n",
       "    <tr>\n",
       "      <th>22</th>\n",
       "      <td>Lucas Alcazar home</td>\n",
       "      <td>Alcazar, Lucas@Typical</td>\n",
       "      <td>22</td>\n",
       "    </tr>\n",
       "    <tr>\n",
       "      <th>23</th>\n",
       "      <td>Lucas Alcazar home</td>\n",
       "      <td>Alcazar, Lucas@Typical</td>\n",
       "      <td>23</td>\n",
       "    </tr>\n",
       "  </tbody>\n",
       "</table>\n",
       "<p>96 rows × 3 columns</p>\n",
       "</div>"
      ],
      "text/plain": [
       "                  name                         id  time\n",
       "65  Lucas Alcazar home  Alcazar, Lucas@2014-01-09     0\n",
       "66  Lucas Alcazar home  Alcazar, Lucas@2014-01-09     1\n",
       "67  Lucas Alcazar home  Alcazar, Lucas@2014-01-09     2\n",
       "68  Lucas Alcazar home  Alcazar, Lucas@2014-01-09     3\n",
       "69  Lucas Alcazar home  Alcazar, Lucas@2014-01-09     4\n",
       "..                 ...                        ...   ...\n",
       "19        Ouzeri Elian     Alcazar, Lucas@Typical    19\n",
       "20        Ouzeri Elian     Alcazar, Lucas@Typical    20\n",
       "21  Lucas Alcazar home     Alcazar, Lucas@Typical    21\n",
       "22  Lucas Alcazar home     Alcazar, Lucas@Typical    22\n",
       "23  Lucas Alcazar home     Alcazar, Lucas@Typical    23\n",
       "\n",
       "[96 rows x 3 columns]"
      ]
     },
     "execution_count": 5,
     "metadata": {},
     "output_type": "execute_result"
    }
   ],
   "source": [
    "person = 'Alcazar, Lucas'\n",
    "dates=['2014-01-9', '2014-01-10', '2014-01-11']\n",
    "\n",
    "data_subset = data[data.FullName == person]\n",
    "\n",
    "typical = data_subset.groupby('time').name\\\n",
    "    .apply(lambda ser: ser.value_counts().idxmax())\\\n",
    "    .to_frame()\\\n",
    "    .assign(id=f'{person}@Typical')\\\n",
    "    .reset_index()\n",
    "\n",
    "date_mask = np.any([data_subset.Timestamp.dt.date == d for d in map(pd.Timestamp, dates)], axis=0)\n",
    "data_subset = pd.concat((data_subset[date_mask], typical), axis=0).dropna(axis=1)\n",
    "data_subset"
   ]
  },
  {
   "cell_type": "code",
   "execution_count": 6,
   "metadata": {},
   "outputs": [
    {
     "data": {
      "application/vnd.jupyter.widget-view+json": {
       "model_id": "59a1e42dc8594877a6d3fac9740ff7f1",
       "version_major": 2,
       "version_minor": 0
      },
      "text/plain": [
       "StorylineChart(component='StorylineChart', props={'data': [{'name': 'Lucas Alcazar home', 'id': 'Alcazar, Luca…"
      ]
     },
     "metadata": {},
     "output_type": "display_data"
    }
   ],
   "source": [
    "lines = data_subset.id.unique()\n",
    "\n",
    "# set the color of the typical line to red and everything else black\n",
    "color = {\n",
    "    v: 'red' if 'Typical' in v else 'black'\n",
    "    for v in lines\n",
    "}\n",
    "\n",
    "# for the label, just show the date because they're all about one person\n",
    "lineLabel = {\n",
    "    v: v.split('@')[-1]\n",
    "    for v in lines\n",
    "}\n",
    "\n",
    "StorylineChart(\n",
    "    data=data_subset,\n",
    "    group='name',\n",
    "    # additional customization below\n",
    "    color=color,\n",
    "    lineLabel=lineLabel\n",
    ")"
   ]
  },
  {
   "cell_type": "code",
   "execution_count": null,
   "metadata": {},
   "outputs": [],
   "source": []
  }
 ],
 "metadata": {
  "kernelspec": {
   "display_name": "Python 3",
   "language": "python",
   "name": "python3"
  },
  "language_info": {
   "codemirror_mode": {
    "name": "ipython",
    "version": 3
   },
   "file_extension": ".py",
   "mimetype": "text/x-python",
   "name": "python",
   "nbconvert_exporter": "python",
   "pygments_lexer": "ipython3",
   "version": "3.8.5"
  }
 },
 "nbformat": 4,
 "nbformat_minor": 2
}
