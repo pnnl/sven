{
 "cells": [
  {
   "cell_type": "code",
   "execution_count": 1,
   "metadata": {},
   "outputs": [],
   "source": [
    "import numpy as np\n",
    "import pandas as pd"
   ]
  },
  {
   "cell_type": "code",
   "execution_count": 2,
   "metadata": {},
   "outputs": [
    {
     "data": {
      "text/html": [
       "<div>\n",
       "<style scoped>\n",
       "    .dataframe tbody tr th:only-of-type {\n",
       "        vertical-align: middle;\n",
       "    }\n",
       "\n",
       "    .dataframe tbody tr th {\n",
       "        vertical-align: top;\n",
       "    }\n",
       "\n",
       "    .dataframe thead th {\n",
       "        text-align: right;\n",
       "    }\n",
       "</style>\n",
       "<table border=\"1\" class=\"dataframe\">\n",
       "  <thead>\n",
       "    <tr style=\"text-align: right;\">\n",
       "      <th></th>\n",
       "      <th>FullName</th>\n",
       "      <th>Timestamp</th>\n",
       "      <th>category</th>\n",
       "      <th>id</th>\n",
       "      <th>time</th>\n",
       "    </tr>\n",
       "  </thead>\n",
       "  <tbody>\n",
       "    <tr>\n",
       "      <th>0</th>\n",
       "      <td>Alcazar, Lucas</td>\n",
       "      <td>2014-01-06 07:00:00</td>\n",
       "      <td>Coffee</td>\n",
       "      <td>Alcazar, Lucas@2014-01-06</td>\n",
       "      <td>7</td>\n",
       "    </tr>\n",
       "    <tr>\n",
       "      <th>1</th>\n",
       "      <td>Alcazar, Lucas</td>\n",
       "      <td>2014-01-06 08:00:00</td>\n",
       "      <td>GASTech</td>\n",
       "      <td>Alcazar, Lucas@2014-01-06</td>\n",
       "      <td>8</td>\n",
       "    </tr>\n",
       "    <tr>\n",
       "      <th>2</th>\n",
       "      <td>Alcazar, Lucas</td>\n",
       "      <td>2014-01-06 09:00:00</td>\n",
       "      <td>GASTech</td>\n",
       "      <td>Alcazar, Lucas@2014-01-06</td>\n",
       "      <td>9</td>\n",
       "    </tr>\n",
       "    <tr>\n",
       "      <th>3</th>\n",
       "      <td>Alcazar, Lucas</td>\n",
       "      <td>2014-01-06 10:00:00</td>\n",
       "      <td>GASTech</td>\n",
       "      <td>Alcazar, Lucas@2014-01-06</td>\n",
       "      <td>10</td>\n",
       "    </tr>\n",
       "    <tr>\n",
       "      <th>4</th>\n",
       "      <td>Alcazar, Lucas</td>\n",
       "      <td>2014-01-06 11:00:00</td>\n",
       "      <td>GASTech</td>\n",
       "      <td>Alcazar, Lucas@2014-01-06</td>\n",
       "      <td>11</td>\n",
       "    </tr>\n",
       "  </tbody>\n",
       "</table>\n",
       "</div>"
      ],
      "text/plain": [
       "         FullName           Timestamp category                         id  \\\n",
       "0  Alcazar, Lucas 2014-01-06 07:00:00   Coffee  Alcazar, Lucas@2014-01-06   \n",
       "1  Alcazar, Lucas 2014-01-06 08:00:00  GASTech  Alcazar, Lucas@2014-01-06   \n",
       "2  Alcazar, Lucas 2014-01-06 09:00:00  GASTech  Alcazar, Lucas@2014-01-06   \n",
       "3  Alcazar, Lucas 2014-01-06 10:00:00  GASTech  Alcazar, Lucas@2014-01-06   \n",
       "4  Alcazar, Lucas 2014-01-06 11:00:00  GASTech  Alcazar, Lucas@2014-01-06   \n",
       "\n",
       "   time  \n",
       "0     7  \n",
       "1     8  \n",
       "2     9  \n",
       "3    10  \n",
       "4    11  "
      ]
     },
     "execution_count": 2,
     "metadata": {},
     "output_type": "execute_result"
    }
   ],
   "source": [
    "data = pd.read_csv('./vast2014geo.csv', index_col=0, parse_dates=['Timestamp'])\n",
    "data.head()"
   ]
  },
  {
   "cell_type": "code",
   "execution_count": 3,
   "metadata": {},
   "outputs": [
    {
     "data": {
      "application/vnd.jupyter.widget-view+json": {
       "model_id": "26c862a8195b497aa07682d3fa0d89d4",
       "version_major": 2,
       "version_minor": 0
      },
      "text/plain": [
       "StorylineChart(component='StorylineChart', props={'data': [{'FullName': 'Alcazar, Lucas', 'time': 0, 'category…"
      ]
     },
     "metadata": {},
     "output_type": "display_data"
    }
   ],
   "source": [
    "from sven import StorylineChart\n",
    "\n",
    "def show_storyline_for_one_person(data, person, dates=None, show_typical=True, location_granularity = 'category'):\n",
    "    if dates is None:\n",
    "        dates = data.Timestamp.unique()\n",
    "        \n",
    "    dates = set(map(pd.Timestamp, dates))\n",
    "\n",
    "    typical = data[data.FullName == person]\\\n",
    "        .groupby(['FullName', 'time'])\\\n",
    "        [location_granularity]\\\n",
    "        .apply(lambda ser: ser.value_counts().idxmax())\\\n",
    "        .to_frame()\\\n",
    "        .reset_index()\n",
    "\n",
    "    typical['id'] = typical.FullName + '@Typical'\n",
    "\n",
    "    mask = (data.FullName == person) &\\\n",
    "        (np.any([data.Timestamp.dt.date == d for d in dates], axis=0))\n",
    "    \n",
    "    \n",
    "    data = data[mask].drop(columns='Timestamp')\n",
    "    \n",
    "    if show_typical:\n",
    "        data = pd.concat((typical, data))\n",
    "    \n",
    "    lineLabel = {\n",
    "        v: v.split('@')[-1]\n",
    "        for v in data.id.unique()\n",
    "    }\n",
    "    \n",
    "    return StorylineChart(\n",
    "        data=data,\n",
    "        group=location_granularity,\n",
    "        lineLabel=lineLabel\n",
    "    )\n",
    "\n",
    "show_storyline_for_one_person(\n",
    "    data,\n",
    "    'Alcazar, Lucas',\n",
    "    dates=['2014-01-9']\n",
    ")"
   ]
  }
 ],
 "metadata": {
  "kernelspec": {
   "display_name": "Python 3",
   "language": "python",
   "name": "python3"
  },
  "language_info": {
   "codemirror_mode": {
    "name": "ipython",
    "version": 3
   },
   "file_extension": ".py",
   "mimetype": "text/x-python",
   "name": "python",
   "nbconvert_exporter": "python",
   "pygments_lexer": "ipython3",
   "version": "3.8.5"
  }
 },
 "nbformat": 4,
 "nbformat_minor": 2
}
